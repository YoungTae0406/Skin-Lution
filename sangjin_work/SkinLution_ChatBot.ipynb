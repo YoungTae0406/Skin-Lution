{
 "cells": [
  {
   "cell_type": "code",
   "execution_count": 1,
   "id": "b6038e04",
   "metadata": {},
   "outputs": [],
   "source": [
    "from langchain.memory import ChatMessageHistory\n",
    "from langchain_core.messages import HumanMessage\n",
    "from langchain_core.messages import AIMessage\n",
    "from langchain_openai import ChatOpenAI\n",
    "\n",
    "import getpass\n",
    "import os\n",
    "from langchain_openai import ChatOpenAI\n",
    "from langchain.callbacks.streaming_stdout import StreamingStdOutCallbackHandler\n",
    "import bs4\n",
    "from langchain.vectorstores import Chroma\n",
    "from langchain.embeddings import OpenAIEmbeddings\n",
    "from langchain.text_splitter import RecursiveCharacterTextSplitter\n",
    "from langchain.llms import OpenAI\n",
    "from langchain.chains import RetrievalQA\n",
    "from langchain.document_loaders import TextLoader\n",
    "from langchain.document_loaders import DirectoryLoader\n",
    "from langchain_community.vectorstores import Chroma, FAISS\n",
    "from langchain_core.runnables import RunnablePassthrough\n",
    "from langchain_core.output_parsers import StrOutputParser\n",
    "import requests\n",
    "from langchain.document_loaders import PyPDFLoader\n",
    "from langchain_community.document_loaders.csv_loader import CSVLoader\n",
    "from langchain_community.document_loaders import TextLoader\n",
    "from langchain_core.prompts import PromptTemplate\n",
    "from langchain import hub\n",
    "from langchain_community.document_loaders import DirectoryLoader\n",
    "from langchain_core.runnables import RunnableParallel\n",
    "from langchain.agents.agent_types import AgentType\n",
    "from langchain_experimental.agents.agent_toolkits import create_csv_agent"
   ]
  },
  {
   "cell_type": "code",
   "execution_count": 2,
   "id": "b8852743",
   "metadata": {},
   "outputs": [],
   "source": [
    "openai_api_key = os.environ.get(\"OPENAI_API_KEY\")\n",
    "#OpenAI API 키 설정"
   ]
  },
  {
   "cell_type": "code",
   "execution_count": 3,
   "id": "6b326948",
   "metadata": {},
   "outputs": [],
   "source": [
    "os.environ[\"LANGCHAIN_TRACING_V2\"] = \"true\"\n",
    "langchain_api_key = os.environ.get(\"LANGCHAIN_API_KEY\")\n",
    "#Langchain API 키 설정"
   ]
  },
  {
   "cell_type": "code",
   "execution_count": 4,
   "id": "93dc3995",
   "metadata": {},
   "outputs": [],
   "source": [
    "llm = ChatOpenAI(\n",
    "    temperature=0,  # 창의성 (0.0 ~ 2.0) 낮을수록 같은 질문에 같은 대답\n",
    "    max_tokens=3000,  # 최대 토큰수\n",
    "    model_name=\"gpt-3.5-turbo\",  # 모델명\n",
    "    #streaming=True,\n",
    "    #callbacks=[StreamingStdOutCallbackHandler()], #스트리밍으로 답변 받기\n",
    ")\n",
    "# GPT LLM 생성"
   ]
  },
  {
   "cell_type": "code",
   "execution_count": 5,
   "id": "2f054c45",
   "metadata": {},
   "outputs": [
    {
     "name": "stderr",
     "output_type": "stream",
     "text": [
      "100%|████████████████████████████████████████████████████████████████████████████████████| 8/8 [00:14<00:00,  1.84s/it]"
     ]
    },
    {
     "name": "stdout",
     "output_type": "stream",
     "text": [
      "문서의 수: 8\n",
      "\n"
     ]
    },
    {
     "name": "stderr",
     "output_type": "stream",
     "text": [
      "\n"
     ]
    }
   ],
   "source": [
    "# PDF 파일 로드\n",
    "loader = DirectoryLoader(\".\", glob=\"SkinLution_data/*.pdf\", show_progress=True)\n",
    "\n",
    "pdf_docs = loader.load()\n",
    "print(f\"문서의 수: {len(pdf_docs)}\\n\")"
   ]
  },
  {
   "cell_type": "code",
   "execution_count": 6,
   "id": "10d576e0",
   "metadata": {},
   "outputs": [
    {
     "name": "stdout",
     "output_type": "stream",
     "text": [
      "{'source': 'SkinLution_data\\\\The_Effect_of_P.pdf'}\n",
      "{'source': 'SkinLution_data\\\\고려엉겅퀴의_HPLC_패턴_.pdf'}\n",
      "{'source': 'SkinLution_data\\\\목단피_에탄올_추출물의_B1.pdf'}\n",
      "{'source': 'SkinLution_data\\\\세안화장품_사용에_따른_20.pdf'}\n",
      "{'source': 'SkinLution_data\\\\아토피_피부의_임상연구__J.pdf'}\n",
      "{'source': 'SkinLution_data\\\\울금의_항산화_및_미백효과.pdf'}\n",
      "{'source': 'SkinLution_data\\\\제주도_토착_우뭇가사리의_항.pdf'}\n",
      "{'source': 'SkinLution_data\\\\화장품에서_키토산_성분의_기.pdf'}\n"
     ]
    }
   ],
   "source": [
    "for i in range(len(pdf_docs)):\n",
    "    print(pdf_docs[i].metadata)"
   ]
  },
  {
   "cell_type": "code",
   "execution_count": 7,
   "id": "2b589b1a",
   "metadata": {},
   "outputs": [
    {
     "name": "stderr",
     "output_type": "stream",
     "text": [
      "100%|██████████████████████████████████████████████████████████████████████████████████| 24/24 [00:01<00:00, 12.20it/s]"
     ]
    },
    {
     "name": "stdout",
     "output_type": "stream",
     "text": [
      "문서의 수: 24\n"
     ]
    },
    {
     "name": "stderr",
     "output_type": "stream",
     "text": [
      "\n"
     ]
    }
   ],
   "source": [
    "# TXT파일 로드\n",
    "loader = DirectoryLoader(\".\", glob=\"SkinLution_data/*.txt\", show_progress=True)\n",
    "\n",
    "txt_docs = loader.load()\n",
    "print(f\"문서의 수: {len(txt_docs)}\")"
   ]
  },
  {
   "cell_type": "code",
   "execution_count": 8,
   "id": "aa609f2b",
   "metadata": {},
   "outputs": [
    {
     "name": "stdout",
     "output_type": "stream",
     "text": [
      "{'source': 'SkinLution_data\\\\3분 피부관리 꿀팁 [피부과전문의 피부심].txt'}\n",
      "{'source': 'SkinLution_data\\\\눈가주름 눈밑주름 없애는 법 - 자글자글하면 꼭 보세요 [피부과전문의 피부심].txt'}\n",
      "{'source': 'SkinLution_data\\\\다크서클 없애는 법 [피부과전문의 피부심].txt'}\n",
      "{'source': 'SkinLution_data\\\\돈 안 들이고 여드름흉터를 치료할 수 있다고! 노스카나겔의 효과를 논문을 근거로 팩트체크합니다  노스카나겔 구매 전 필수 시청! - 피부과 전문의 왕정윤.txt'}\n",
      "{'source': 'SkinLution_data\\\\돈 안들이고 피부 좋아지는 법 [피부과전문의 피부심].txt'}\n",
      "{'source': 'SkinLution_data\\\\돈 안들이고 피부노화 막는 법 [피부과전문의 피부심].txt'}\n",
      "{'source': 'SkinLution_data\\\\모공 작아지려면 어떻게 해야하나요 [피부과전문의 피부심].txt'}\n",
      "{'source': 'SkinLution_data\\\\모공을 줄이는 3가지 원칙 [피부과전문의 피부심].txt'}\n",
      "{'source': 'SkinLution_data\\\\서울대 피부과전문의가 말하는 피부좋아지는법  홈케어만으로 물광피부 완성! - 피부과 전문의 왕정윤.txt'}\n",
      "{'source': 'SkinLution_data\\\\서울대 피부과전문의가 장담합니다! 비싼 화장품에 헛돈 쓰지 마시고, 이것만 바르면 피부가 새롭게 태어납니다  광고 전혀 없음! 가성비 보장! 약국연고추천! - 피부과 전문의 왕정윤.txt'}\n",
      "{'source': 'SkinLution_data\\\\성인여드름 이것만 보시면 됩니다  여드름없애는방법 여드름관리법 - 피부과 전문의 왕정윤.txt'}\n",
      "{'source': 'SkinLution_data\\\\스킨, 토너만으로 피부 좋아지는 방법 [피부과전문의 피부심].txt'}\n",
      "{'source': 'SkinLution_data\\\\얼굴 주름 팽팽하게 쫙 펴주는 바세린의 놀라운 사용법  바세린 발암물질 논란  바세린 부작용 총정리! - 피부과 전문의 왕정윤.txt'}\n",
      "{'source': 'SkinLution_data\\\\여드름 짜야한다 vs 짜면 안된다 [피부과전문의 피부심].txt'}\n",
      "{'source': \"SkinLution_data\\\\여드름 치료 하러 병원에 헛돈 쓰지 말고 '이것'부터 꼭 발라보세요 - 피부과 전문의 왕정윤 .txt\"}\n",
      "{'source': 'SkinLution_data\\\\여드름자국 흉터 없애는 법 [피부과전문의 피부심].txt'}\n",
      "{'source': 'SkinLution_data\\\\예민한 피부에서 꼭 지켜야할 11가지! [피부과전문의 피부심].txt'}\n",
      "{'source': 'SkinLution_data\\\\절대 안 없어지는 여드름자국 색소침착 완치하는 법  자가치료부터 전후 변화까지 이 영상 하나로 완벽하게 종결! - 피부과 전문의 왕정윤.txt'}\n",
      "{'source': 'SkinLution_data\\\\집에서 피부 좋아지는 법 2가지 [피부과전문의 피부심].txt'}\n",
      "{'source': 'SkinLution_data\\\\피부과 안 가고 집에서 블랙헤드 없애는 방법 서울대 피부과 - 피부과 전문의 왕정윤.txt'}\n",
      "{'source': 'SkinLution_data\\\\피부과 안가고 누구나 피부 하얘지는 방법! [피부과전문의 피부심.txt'}\n",
      "{'source': 'SkinLution_data\\\\피부과전문의가 직접 보여주는 완벽한 세안법 - 제발 그렇게 하지 마세요 [피부과전문의 피부심].txt'}\n",
      "{'source': 'SkinLution_data\\\\피부를 망치는 습관 BEST 5 - 이것만 고치면 피부미인 됩니다 [피부과전문의 피부심].txt'}\n",
      "{'source': 'SkinLution_data\\\\피부에 정말 나쁜 음식 5가지! [피부과전문의 피부심].txt'}\n"
     ]
    }
   ],
   "source": [
    "for i in range(len(txt_docs)):\n",
    "    print(txt_docs[i].metadata)"
   ]
  },
  {
   "cell_type": "code",
   "execution_count": 9,
   "id": "94f86f59",
   "metadata": {},
   "outputs": [
    {
     "name": "stdout",
     "output_type": "stream",
     "text": [
      "문서의 수: 120\n"
     ]
    }
   ],
   "source": [
    "loader = CSVLoader(file_path='SkinLution_data/화장품데이터.csv', encoding='utf-8')\n",
    "csv_docs = loader.load()\n",
    "\n",
    "print(f\"문서의 수: {len(csv_docs)}\")"
   ]
  },
  {
   "cell_type": "code",
   "execution_count": 10,
   "id": "a3332731",
   "metadata": {},
   "outputs": [
    {
     "name": "stdout",
     "output_type": "stream",
     "text": [
      "460\n",
      "461\n"
     ]
    }
   ],
   "source": [
    "# Split\n",
    "pdf_splitter = RecursiveCharacterTextSplitter(\n",
    "    chunk_size=500, #길이 500\n",
    "    chunk_overlap=100, #겹치는 내용 100\n",
    "    add_start_index=True #add_start_index=True초기 Document 내에서 각 분할 Document가 시작되는 문자 인덱스가 메타데이터 속성 \"start_index\"로 유지되도록 설정\n",
    ")\n",
    "\n",
    "pdf_splits = pdf_splitter.split_documents(pdf_docs)\n",
    "print(len(pdf_splits))\n",
    "\n",
    "txt_splitter = RecursiveCharacterTextSplitter(\n",
    "    chunk_size=300, \n",
    "    chunk_overlap=50, \n",
    "    add_start_index=True #add_start_index=True초기 Document 내에서 각 분할 Document가 시작되는 문자 인덱스가 메타데이터 속성 \"start_index\"로 유지되도록 설정\n",
    ")\n",
    "\n",
    "txt_splits = txt_splitter.split_documents(txt_docs)\n",
    "print(len(txt_splits))"
   ]
  },
  {
   "cell_type": "code",
   "execution_count": 11,
   "id": "da89c0e0",
   "metadata": {},
   "outputs": [
    {
     "name": "stderr",
     "output_type": "stream",
     "text": [
      "C:\\Users\\hoban\\anaconda3\\lib\\site-packages\\langchain_core\\_api\\deprecation.py:119: LangChainDeprecationWarning: The class `OpenAIEmbeddings` was deprecated in LangChain 0.0.9 and will be removed in 0.3.0. An updated version of the class exists in the langchain-openai package and should be used instead. To use it run `pip install -U langchain-openai` and import as `from langchain_openai import OpenAIEmbeddings`.\n",
      "  warn_deprecated(\n"
     ]
    }
   ],
   "source": [
    "#Store\n",
    "# FAISS 또는 Chroma\n",
    "# FAISS VectorStore를 생성\n",
    "vectorstore1 = FAISS.from_documents(documents=pdf_splits, embedding=OpenAIEmbeddings())\n",
    "vectorstore2 = FAISS.from_documents(documents=txt_splits, embedding=OpenAIEmbeddings())\n",
    "\n",
    "cosmetic_vectorstore = FAISS.from_documents(documents=csv_docs, embedding=OpenAIEmbeddings())\n",
    "vectorstore1.merge_from(vectorstore2) "
   ]
  },
  {
   "cell_type": "code",
   "execution_count": 12,
   "id": "925b56df",
   "metadata": {},
   "outputs": [],
   "source": [
    "# k is the number of chunks to retrieve\n",
    "retriever1 = vectorstore1.as_retriever(k=3)\n",
    "retriever2 = cosmetic_vectorstore.as_retriever(k=50)"
   ]
  },
  {
   "cell_type": "code",
   "execution_count": 13,
   "id": "8328be04",
   "metadata": {},
   "outputs": [],
   "source": [
    "# 선택된 벡터스토어에 따라 검색 수행하는 함수\n",
    "def is_cosmetic_query(user_message):\n",
    "    # 간단한 키워드 기반 분류기 => 머신러닝 모델로 바꿀 수 있음(사용자의 질문이 화장품 추천을 바라는 것인지 아닌지로 레이블링)\n",
    "    cosmetic_keywords = [\"화장품\", \"제품\", \"스킨케어\", \"로션\", \"크림\"]\n",
    "    return any(keyword in user_message for keyword in cosmetic_keywords)\n",
    "                         \n",
    "\n",
    "# 적절한 vectorstore를 선택하는 로직\n",
    "def select_vectorstore(user_message):\n",
    "    if is_cosmetic_query(user_message):\n",
    "        return retriever2\n",
    "    else:\n",
    "        return retriever1"
   ]
  },
  {
   "cell_type": "code",
   "execution_count": 14,
   "id": "88fc2b77",
   "metadata": {},
   "outputs": [],
   "source": [
    "from langchain_core.output_parsers import StrOutputParser\n",
    "from langchain_core.runnables import RunnableBranch, RunnablePassthrough\n",
    "from langchain_core.prompts import ChatPromptTemplate, MessagesPlaceholder\n",
    "from langchain.chains.combine_documents import create_stuff_documents_chain\n",
    "\n",
    "def perform_retrieval(user_message):\n",
    "    selected_vectorstore = select_vectorstore(user_message)\n",
    "    # 질의 변환 및 검색 수행\n",
    "    query_transform_prompt = ChatPromptTemplate.from_messages(\n",
    "        [\n",
    "            MessagesPlaceholder(variable_name=\"messages\"),\n",
    "            (\n",
    "                \"user\",\n",
    "                \"Given the above conversation, generate a search query to look up in order to get information relevant to the conversation. Only respond with the query, nothing else.\",\n",
    "            ),\n",
    "        ]\n",
    "    )\n",
    "\n",
    "    question_answering_prompt = ChatPromptTemplate.from_messages(\n",
    "        [\n",
    "            (\n",
    "                \"system\",\n",
    "                \"Answer the user's question based on the below context:\\n\\n{context}\",\n",
    "            ),\n",
    "            MessagesPlaceholder(variable_name=\"messages\"),\n",
    "        ]\n",
    "    )\n",
    "\n",
    "    query_transforming_retriever_chain = RunnableBranch(\n",
    "        (\n",
    "            lambda x: len(x.get(\"messages\", [])) == 1,\n",
    "            (lambda x: x[\"messages\"][-1].content) | selected_vectorstore,\n",
    "        ),\n",
    "        query_transform_prompt \n",
    "        | llm \n",
    "        | StrOutputParser() \n",
    "        | selected_vectorstore,\n",
    "    ).with_config(run_name=\"chat_retriever_chain\")\n",
    "\n",
    "    document_chain = create_stuff_documents_chain(llm, question_answering_prompt)\n",
    "\n",
    "    conversational_retrieval_chain = RunnablePassthrough.assign(\n",
    "        context=query_transforming_retriever_chain,\n",
    "    ).assign(\n",
    "        answer=document_chain,\n",
    "    )\n",
    "\n",
    "    return conversational_retrieval_chain"
   ]
  },
  {
   "cell_type": "code",
   "execution_count": 16,
   "id": "84d9e497",
   "metadata": {},
   "outputs": [
    {
     "name": "stdout",
     "output_type": "stream",
     "text": [
      "질문할 내용을 입력하세요: 집에서 피부관리 하는 방법에 대해 알려줄래?\n",
      "집에서 피부 관리하는 방법에 대해 알려드리겠습니다. \n",
      "\n",
      "1. 적절한 세안: 부드러운 클렌징 제품을 사용하여 피부를 깨끗하게 세정해주는 것이 중요합니다. 특히 메이크업을 하신 경우에는 이중 세안을 권장합니다.\n",
      "\n",
      "2. 적절한 보습: 피부 타입에 맞는 보습제를 사용하여 피부를 촉촉하게 유지해주는 것이 중요합니다. 건성 피부일 경우에는 보습 크림을, 지성 피부일 경우에는 젤 형태의 보습제를 사용하는 것이 좋습니다.\n",
      "\n",
      "3. 자외선 차단: 햇빛으로부터 피부를 보호하기 위해 자외선 차단제를 꾸준히 사용하는 것이 중요합니다. SPF 지수가 높은 제품을 선택하여 햇빛으로부터 피부를 지켜주세요.\n",
      "\n",
      "4. 꾸준한 스킨케어: 일정한 주기로 필요한 스킨케어를 실시하여 피부 상태를 유지해주는 것이 중요합니다. 스킨토닉, 에센스, 세럼, 크림 순서대로 사용하여 피부에 영양을 공급해주세요.\n",
      "\n",
      "이렇게 집에서 꾸준히 피부 관리를 하면 건강하고 빛나는 피부를 유지할 수 있을 것입니다. 부디 건강한 피부를 위해 노력해주세요.\n",
      "\n",
      "Source Title: 서울대 피부과전문의가 말하는 피부좋아지는법 | 홈케어만으로 물광피부 완성!\n",
      "\n",
      "질문할 내용을 입력하세요: -1\n"
     ]
    }
   ],
   "source": [
    "demo_ephemeral_chat_history = ChatMessageHistory()\n",
    "\n",
    "while True:\n",
    "    user_message = input(\"질문할 내용을 입력하세요: \")\n",
    "    if user_message == \"-1\":\n",
    "        break\n",
    "    demo_ephemeral_chat_history.add_user_message(user_message)\n",
    "    retrieval_chain = perform_retrieval(user_message)\n",
    "    response = retrieval_chain.invoke({\"messages\": demo_ephemeral_chat_history.messages})\n",
    "    \n",
    "    # Add AI response to the chat history\n",
    "    demo_ephemeral_chat_history.add_ai_message(response[\"answer\"])\n",
    "    \n",
    "    # Extract the title from the first document in the context\n",
    "    first_document_title = None\n",
    "    if \"context\" in response and response[\"context\"]:\n",
    "        first_document = response[\"context\"][0]\n",
    "        first_document_title = first_document.page_content.split('\\n')[0].strip()\n",
    "    \n",
    "    # Filter and print only AI messages\n",
    "    ai_messages = [msg.content for msg in demo_ephemeral_chat_history.messages if isinstance(msg, AIMessage)]\n",
    "    for msg in ai_messages:\n",
    "        print(msg)\n",
    "    \n",
    "    # Print the title of the first document, if available\n",
    "    if first_document_title:\n",
    "        print(f\"\\n답변에 활용한 데이터: {first_document_title}\\n\")"
   ]
  },
  {
   "cell_type": "code",
   "execution_count": 17,
   "id": "bf3dba56",
   "metadata": {},
   "outputs": [
    {
     "name": "stdout",
     "output_type": "stream",
     "text": [
      "건성 피부 질문에 '예' 또는 '아니오'로 답해주세요.\n"
     ]
    },
    {
     "ename": "KeyboardInterrupt",
     "evalue": "Interrupted by user",
     "output_type": "error",
     "traceback": [
      "\u001b[1;31m---------------------------------------------------------------------------\u001b[0m",
      "\u001b[1;31mKeyboardInterrupt\u001b[0m                         Traceback (most recent call last)",
      "\u001b[1;32m~\\AppData\\Local\\Temp\\ipykernel_20204\\1487853062.py\u001b[0m in \u001b[0;36m<module>\u001b[1;34m\u001b[0m\n\u001b[0;32m     49\u001b[0m \u001b[1;33m\u001b[0m\u001b[0m\n\u001b[0;32m     50\u001b[0m \u001b[1;31m# 피부 타입 검사 시작\u001b[0m\u001b[1;33m\u001b[0m\u001b[1;33m\u001b[0m\u001b[0m\n\u001b[1;32m---> 51\u001b[1;33m \u001b[0mskin_type_test\u001b[0m\u001b[1;33m(\u001b[0m\u001b[1;33m)\u001b[0m\u001b[1;33m\u001b[0m\u001b[1;33m\u001b[0m\u001b[0m\n\u001b[0m",
      "\u001b[1;32m~\\AppData\\Local\\Temp\\ipykernel_20204\\1487853062.py\u001b[0m in \u001b[0;36mskin_type_test\u001b[1;34m()\u001b[0m\n\u001b[0;32m     29\u001b[0m     \u001b[0mprint\u001b[0m\u001b[1;33m(\u001b[0m\u001b[1;34m\"건성 피부 질문에 '예' 또는 '아니오'로 답해주세요.\"\u001b[0m\u001b[1;33m)\u001b[0m\u001b[1;33m\u001b[0m\u001b[1;33m\u001b[0m\u001b[0m\n\u001b[0;32m     30\u001b[0m     \u001b[1;32mfor\u001b[0m \u001b[0mquestion\u001b[0m \u001b[1;32min\u001b[0m \u001b[0mdry_questions\u001b[0m\u001b[1;33m:\u001b[0m\u001b[1;33m\u001b[0m\u001b[1;33m\u001b[0m\u001b[0m\n\u001b[1;32m---> 31\u001b[1;33m         \u001b[0manswer\u001b[0m \u001b[1;33m=\u001b[0m \u001b[0minput\u001b[0m\u001b[1;33m(\u001b[0m\u001b[0mquestion\u001b[0m \u001b[1;33m+\u001b[0m \u001b[1;34m\" (예/아니오): \"\u001b[0m\u001b[1;33m)\u001b[0m\u001b[1;33m.\u001b[0m\u001b[0mlower\u001b[0m\u001b[1;33m(\u001b[0m\u001b[1;33m)\u001b[0m\u001b[1;33m\u001b[0m\u001b[1;33m\u001b[0m\u001b[0m\n\u001b[0m\u001b[0;32m     32\u001b[0m         \u001b[1;32mif\u001b[0m \u001b[0manswer\u001b[0m \u001b[1;33m==\u001b[0m \u001b[1;34m\"예\"\u001b[0m\u001b[1;33m:\u001b[0m\u001b[1;33m\u001b[0m\u001b[1;33m\u001b[0m\u001b[0m\n\u001b[0;32m     33\u001b[0m             \u001b[0mdry_count\u001b[0m \u001b[1;33m+=\u001b[0m \u001b[1;36m1\u001b[0m\u001b[1;33m\u001b[0m\u001b[1;33m\u001b[0m\u001b[0m\n",
      "\u001b[1;32m~\\anaconda3\\lib\\site-packages\\ipykernel\\kernelbase.py\u001b[0m in \u001b[0;36mraw_input\u001b[1;34m(self, prompt)\u001b[0m\n\u001b[0;32m   1175\u001b[0m                 \u001b[1;34m\"raw_input was called, but this frontend does not support input requests.\"\u001b[0m\u001b[1;33m\u001b[0m\u001b[1;33m\u001b[0m\u001b[0m\n\u001b[0;32m   1176\u001b[0m             )\n\u001b[1;32m-> 1177\u001b[1;33m         return self._input_request(\n\u001b[0m\u001b[0;32m   1178\u001b[0m             \u001b[0mstr\u001b[0m\u001b[1;33m(\u001b[0m\u001b[0mprompt\u001b[0m\u001b[1;33m)\u001b[0m\u001b[1;33m,\u001b[0m\u001b[1;33m\u001b[0m\u001b[1;33m\u001b[0m\u001b[0m\n\u001b[0;32m   1179\u001b[0m             \u001b[0mself\u001b[0m\u001b[1;33m.\u001b[0m\u001b[0m_parent_ident\u001b[0m\u001b[1;33m[\u001b[0m\u001b[1;34m\"shell\"\u001b[0m\u001b[1;33m]\u001b[0m\u001b[1;33m,\u001b[0m\u001b[1;33m\u001b[0m\u001b[1;33m\u001b[0m\u001b[0m\n",
      "\u001b[1;32m~\\anaconda3\\lib\\site-packages\\ipykernel\\kernelbase.py\u001b[0m in \u001b[0;36m_input_request\u001b[1;34m(self, prompt, ident, parent, password)\u001b[0m\n\u001b[0;32m   1217\u001b[0m             \u001b[1;32mexcept\u001b[0m \u001b[0mKeyboardInterrupt\u001b[0m\u001b[1;33m:\u001b[0m\u001b[1;33m\u001b[0m\u001b[1;33m\u001b[0m\u001b[0m\n\u001b[0;32m   1218\u001b[0m                 \u001b[1;31m# re-raise KeyboardInterrupt, to truncate traceback\u001b[0m\u001b[1;33m\u001b[0m\u001b[1;33m\u001b[0m\u001b[0m\n\u001b[1;32m-> 1219\u001b[1;33m                 \u001b[1;32mraise\u001b[0m \u001b[0mKeyboardInterrupt\u001b[0m\u001b[1;33m(\u001b[0m\u001b[1;34m\"Interrupted by user\"\u001b[0m\u001b[1;33m)\u001b[0m \u001b[1;32mfrom\u001b[0m \u001b[1;32mNone\u001b[0m\u001b[1;33m\u001b[0m\u001b[1;33m\u001b[0m\u001b[0m\n\u001b[0m\u001b[0;32m   1220\u001b[0m             \u001b[1;32mexcept\u001b[0m \u001b[0mException\u001b[0m\u001b[1;33m:\u001b[0m\u001b[1;33m\u001b[0m\u001b[1;33m\u001b[0m\u001b[0m\n\u001b[0;32m   1221\u001b[0m                 \u001b[0mself\u001b[0m\u001b[1;33m.\u001b[0m\u001b[0mlog\u001b[0m\u001b[1;33m.\u001b[0m\u001b[0mwarning\u001b[0m\u001b[1;33m(\u001b[0m\u001b[1;34m\"Invalid Message:\"\u001b[0m\u001b[1;33m,\u001b[0m \u001b[0mexc_info\u001b[0m\u001b[1;33m=\u001b[0m\u001b[1;32mTrue\u001b[0m\u001b[1;33m)\u001b[0m\u001b[1;33m\u001b[0m\u001b[1;33m\u001b[0m\u001b[0m\n",
      "\u001b[1;31mKeyboardInterrupt\u001b[0m: Interrupted by user"
     ]
    }
   ],
   "source": [
    "def skin_type_test():\n",
    "    # 건성 피부 질문\n",
    "    dry_questions = [\n",
    "        \"세안 후 피부가 땅기거나 건조함을 느끼나요?\",\n",
    "        \"피부에 각질이 잘 생기나요?\",\n",
    "        \"세안 후 보습제를 바로 발라야 편안함을 느끼나요?\",\n",
    "        \"피부가 거칠거나 푸석푸석한 느낌이 드나요?\",\n",
    "        \"추운 날씨나 건조한 환경에서 피부가 더 건조해지나요?\",\n",
    "        \"피부에 피지나 유분이 거의 느껴지지 않나요?\",\n",
    "        \"화장이 쉽게 들뜨고 갈라지는 편인가요?\",\n",
    "        \"가렵거나 자극을 잘 받는 피부 상태인가요?\"\n",
    "    ]\n",
    "\n",
    "    # 지성 피부 질문\n",
    "    oily_questions = [\n",
    "        \"세안 후에도 피부에 기름기가 남아있나요?\",\n",
    "        \"하루 동안 피부가 번들거리는 느낌이 드나요?\",\n",
    "        \"모공이 크고 눈에 잘 띄나요?\",\n",
    "        \"블랙헤드나 화이트헤드가 자주 생기나요?\",\n",
    "        \"여드름이 자주 발생하나요?\",\n",
    "        \"세안 후에도 금방 기름이 올라오는 편인가요?\",\n",
    "        \"더운 날씨나 습한 환경에서 피부가 더 번들거리나요?\",\n",
    "        \"화장이 쉽게 지워지고 번들거리는 편인가요?\"\n",
    "    ]\n",
    "\n",
    "    dry_count = 0\n",
    "    oily_count = 0\n",
    "\n",
    "    print(\"건성 피부 질문에 '예' 또는 '아니오'로 답해주세요.\")\n",
    "    for question in dry_questions:\n",
    "        answer = input(question + \" (예/아니오): \").lower()\n",
    "        if answer == \"예\":\n",
    "            dry_count += 1\n",
    "\n",
    "    print(\"\\n지성 피부 질문에 '예' 또는 '아니오'로 답해주세요.\")\n",
    "    for question in oily_questions:\n",
    "        answer = input(question + \" (예/아니오): \").lower()\n",
    "        if answer == \"예\":\n",
    "            oily_count += 1\n",
    "\n",
    "    if dry_count >= 5 and oily_count >= 5:\n",
    "        print(\"\\n복합성 피부입니다.\")\n",
    "    elif oily_count >= 5:\n",
    "        print(\"\\n지성 피부입니다.\")\n",
    "    elif dry_count >= 5:\n",
    "        print(\"\\n건성 피부입니다.\")\n",
    "    else:\n",
    "        print(\"\\n피부 타입을 정확히 판단할 수 없습니다. 추가적인 검사가 필요할 수 있습니다.\")\n",
    "\n",
    "# 피부 타입 검사 시작\n",
    "skin_type_test()"
   ]
  },
  {
   "cell_type": "code",
   "execution_count": null,
   "id": "c8cb2af9",
   "metadata": {},
   "outputs": [],
   "source": []
  }
 ],
 "metadata": {
  "kernelspec": {
   "display_name": "Python 3 (ipykernel)",
   "language": "python",
   "name": "python3"
  },
  "language_info": {
   "codemirror_mode": {
    "name": "ipython",
    "version": 3
   },
   "file_extension": ".py",
   "mimetype": "text/x-python",
   "name": "python",
   "nbconvert_exporter": "python",
   "pygments_lexer": "ipython3",
   "version": "3.9.13"
  },
  "toc": {
   "base_numbering": 1,
   "nav_menu": {},
   "number_sections": true,
   "sideBar": true,
   "skip_h1_title": false,
   "title_cell": "Table of Contents",
   "title_sidebar": "Contents",
   "toc_cell": false,
   "toc_position": {},
   "toc_section_display": true,
   "toc_window_display": false
  }
 },
 "nbformat": 4,
 "nbformat_minor": 5
}
