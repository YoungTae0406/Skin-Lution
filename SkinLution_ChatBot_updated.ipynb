{
 "cells": [
  {
   "cell_type": "code",
   "execution_count": 1,
   "id": "b6038e04",
   "metadata": {},
   "outputs": [],
   "source": [
    "from langchain.memory import ChatMessageHistory\n",
    "from langchain_core.messages import HumanMessage, AIMessage\n",
    "from langchain_openai import ChatOpenAI\n",
    "import getpass\n",
    "import os\n",
    "from langchain.callbacks.streaming_stdout import StreamingStdOutCallbackHandler\n",
    "import bs4\n",
    "from langchain.vectorstores import Chroma, FAISS\n",
    "from langchain.embeddings import OpenAIEmbeddings\n",
    "from langchain.text_splitter import RecursiveCharacterTextSplitter\n",
    "from langchain.llms import OpenAI\n",
    "from langchain.chains import RetrievalQA\n",
    "from langchain.document_loaders import TextLoader, DirectoryLoader, PyPDFLoader\n",
    "from langchain_community.document_loaders import CSVLoader\n",
    "from langchain_core.prompts import PromptTemplate\n",
    "from langchain import hub\n",
    "from langchain_core.runnables import RunnablePassthrough, RunnableParallel, RunnableBranch\n",
    "from langchain_core.output_parsers import StrOutputParser\n",
    "from langchain.agents.agent_types import AgentType\n",
    "from langchain_experimental.agents.agent_toolkits import create_csv_agent\n",
    "from langchain_core.prompts import ChatPromptTemplate, MessagesPlaceholder\n",
    "from langchain.chains.combine_documents import create_stuff_documents_chain"
   ]
  },
  {
   "cell_type": "code",
   "execution_count": 2,
   "id": "b8852743",
   "metadata": {},
   "outputs": [],
   "source": [
    "openai_api_key = os.environ.get(\"OPENAI_API_KEY\")\n",
    "#OpenAI API 키 설정"
   ]
  },
  {
   "cell_type": "code",
   "execution_count": 3,
   "id": "6b326948",
   "metadata": {},
   "outputs": [],
   "source": [
    "os.environ[\"LANGCHAIN_TRACING_V2\"] = \"true\"\n",
    "langchain_api_key = os.environ.get(\"LANGCHAIN_API_KEY\")\n",
    "#Langchain API 키 설정"
   ]
  },
  {
   "cell_type": "code",
   "execution_count": 4,
   "id": "93dc3995",
   "metadata": {},
   "outputs": [],
   "source": [
    "llm = ChatOpenAI(\n",
    "    temperature=0,  # 창의성 (0.0 ~ 2.0) 낮을수록 같은 질문에 같은 대답\n",
    "    max_tokens=3000,  # 최대 토큰수\n",
    "    model_name=\"gpt-3.5-turbo\",  # 모델명\n",
    "    #streaming=True,\n",
    "    #callbacks=[StreamingStdOutCallbackHandler()], #스트리밍으로 답변 받기\n",
    ")\n",
    "# GPT LLM 생성"
   ]
  },
  {
   "cell_type": "code",
   "execution_count": 5,
   "id": "2f054c45",
   "metadata": {},
   "outputs": [
    {
     "name": "stderr",
     "output_type": "stream",
     "text": [
      "100%|████████████████████████████████████████████████████████████████████████████████████| 8/8 [00:20<00:00,  2.60s/it]"
     ]
    },
    {
     "name": "stdout",
     "output_type": "stream",
     "text": [
      "문서의 수: 8\n",
      "\n"
     ]
    },
    {
     "name": "stderr",
     "output_type": "stream",
     "text": [
      "\n"
     ]
    }
   ],
   "source": [
    "# PDF 파일 로드\n",
    "loader = DirectoryLoader(\".\", glob=\"SkinLution_data/*.pdf\", show_progress=True)\n",
    "\n",
    "pdf_docs = loader.load()\n",
    "print(f\"문서의 수: {len(pdf_docs)}\\n\")"
   ]
  },
  {
   "cell_type": "code",
   "execution_count": 6,
   "id": "10d576e0",
   "metadata": {},
   "outputs": [
    {
     "name": "stdout",
     "output_type": "stream",
     "text": [
      "{'source': 'SkinLution_data\\\\The_Effect_of_P.pdf'}\n",
      "{'source': 'SkinLution_data\\\\고려엉겅퀴의_HPLC_패턴_.pdf'}\n",
      "{'source': 'SkinLution_data\\\\목단피_에탄올_추출물의_B1.pdf'}\n",
      "{'source': 'SkinLution_data\\\\세안화장품_사용에_따른_20.pdf'}\n",
      "{'source': 'SkinLution_data\\\\아토피_피부의_임상연구__J.pdf'}\n",
      "{'source': 'SkinLution_data\\\\울금의_항산화_및_미백효과.pdf'}\n",
      "{'source': 'SkinLution_data\\\\제주도_토착_우뭇가사리의_항.pdf'}\n",
      "{'source': 'SkinLution_data\\\\화장품에서_키토산_성분의_기.pdf'}\n"
     ]
    }
   ],
   "source": [
    "for i in range(len(pdf_docs)):\n",
    "    print(pdf_docs[i].metadata)"
   ]
  },
  {
   "cell_type": "code",
   "execution_count": 7,
   "id": "2b589b1a",
   "metadata": {},
   "outputs": [
    {
     "name": "stderr",
     "output_type": "stream",
     "text": [
      "100%|██████████████████████████████████████████████████████████████████████████████████| 24/24 [00:02<00:00,  8.08it/s]"
     ]
    },
    {
     "name": "stdout",
     "output_type": "stream",
     "text": [
      "문서의 수: 24\n"
     ]
    },
    {
     "name": "stderr",
     "output_type": "stream",
     "text": [
      "\n"
     ]
    }
   ],
   "source": [
    "# TXT파일 로드\n",
    "loader = DirectoryLoader(\".\", glob=\"SkinLution_data/*.txt\", show_progress=True)\n",
    "\n",
    "txt_docs = loader.load()\n",
    "print(f\"문서의 수: {len(txt_docs)}\")"
   ]
  },
  {
   "cell_type": "code",
   "execution_count": 8,
   "id": "aa609f2b",
   "metadata": {},
   "outputs": [
    {
     "name": "stdout",
     "output_type": "stream",
     "text": [
      "{'source': 'SkinLution_data\\\\3분 피부관리 꿀팁 [피부과전문의 피부심].txt'}\n",
      "{'source': 'SkinLution_data\\\\눈가주름 눈밑주름 없애는 법 - 자글자글하면 꼭 보세요 [피부과전문의 피부심].txt'}\n",
      "{'source': 'SkinLution_data\\\\다크서클 없애는 법 [피부과전문의 피부심].txt'}\n",
      "{'source': 'SkinLution_data\\\\돈 안 들이고 여드름흉터를 치료할 수 있다고! 노스카나겔의 효과를 논문을 근거로 팩트체크합니다  노스카나겔 구매 전 필수 시청! - 피부과 전문의 왕정윤.txt'}\n",
      "{'source': 'SkinLution_data\\\\돈 안들이고 피부 좋아지는 법 [피부과전문의 피부심].txt'}\n",
      "{'source': 'SkinLution_data\\\\돈 안들이고 피부노화 막는 법 [피부과전문의 피부심].txt'}\n",
      "{'source': 'SkinLution_data\\\\모공 작아지려면 어떻게 해야하나요 [피부과전문의 피부심].txt'}\n",
      "{'source': 'SkinLution_data\\\\모공을 줄이는 3가지 원칙 [피부과전문의 피부심].txt'}\n",
      "{'source': 'SkinLution_data\\\\서울대 피부과전문의가 말하는 피부좋아지는법  홈케어만으로 물광피부 완성! - 피부과 전문의 왕정윤.txt'}\n",
      "{'source': 'SkinLution_data\\\\서울대 피부과전문의가 장담합니다! 비싼 화장품에 헛돈 쓰지 마시고, 이것만 바르면 피부가 새롭게 태어납니다  광고 전혀 없음! 가성비 보장! 약국연고추천! - 피부과 전문의 왕정윤.txt'}\n",
      "{'source': 'SkinLution_data\\\\성인여드름 이것만 보시면 됩니다  여드름없애는방법 여드름관리법 - 피부과 전문의 왕정윤.txt'}\n",
      "{'source': 'SkinLution_data\\\\스킨, 토너만으로 피부 좋아지는 방법 [피부과전문의 피부심].txt'}\n",
      "{'source': 'SkinLution_data\\\\얼굴 주름 팽팽하게 쫙 펴주는 바세린의 놀라운 사용법  바세린 발암물질 논란  바세린 부작용 총정리! - 피부과 전문의 왕정윤.txt'}\n",
      "{'source': 'SkinLution_data\\\\여드름 짜야한다 vs 짜면 안된다 [피부과전문의 피부심].txt'}\n",
      "{'source': \"SkinLution_data\\\\여드름 치료 하러 병원에 헛돈 쓰지 말고 '이것'부터 꼭 발라보세요 - 피부과 전문의 왕정윤 .txt\"}\n",
      "{'source': 'SkinLution_data\\\\여드름자국 흉터 없애는 법 [피부과전문의 피부심].txt'}\n",
      "{'source': 'SkinLution_data\\\\예민한 피부에서 꼭 지켜야할 11가지! [피부과전문의 피부심].txt'}\n",
      "{'source': 'SkinLution_data\\\\절대 안 없어지는 여드름자국 색소침착 완치하는 법  자가치료부터 전후 변화까지 이 영상 하나로 완벽하게 종결! - 피부과 전문의 왕정윤.txt'}\n",
      "{'source': 'SkinLution_data\\\\집에서 피부 좋아지는 법 2가지 [피부과전문의 피부심].txt'}\n",
      "{'source': 'SkinLution_data\\\\피부과 안 가고 집에서 블랙헤드 없애는 방법 서울대 피부과 - 피부과 전문의 왕정윤.txt'}\n",
      "{'source': 'SkinLution_data\\\\피부과 안가고 누구나 피부 하얘지는 방법! [피부과전문의 피부심.txt'}\n",
      "{'source': 'SkinLution_data\\\\피부과전문의가 직접 보여주는 완벽한 세안법 - 제발 그렇게 하지 마세요 [피부과전문의 피부심].txt'}\n",
      "{'source': 'SkinLution_data\\\\피부를 망치는 습관 BEST 5 - 이것만 고치면 피부미인 됩니다 [피부과전문의 피부심].txt'}\n",
      "{'source': 'SkinLution_data\\\\피부에 정말 나쁜 음식 5가지! [피부과전문의 피부심].txt'}\n"
     ]
    }
   ],
   "source": [
    "for i in range(len(txt_docs)):\n",
    "    print(txt_docs[i].metadata)"
   ]
  },
  {
   "cell_type": "code",
   "execution_count": 9,
   "id": "94f86f59",
   "metadata": {},
   "outputs": [
    {
     "name": "stdout",
     "output_type": "stream",
     "text": [
      "문서의 수: 120\n"
     ]
    }
   ],
   "source": [
    "loader = CSVLoader(file_path='SkinLution_data/화장품데이터.csv', encoding='utf-8')\n",
    "csv_docs = loader.load()\n",
    "\n",
    "print(f\"문서의 수: {len(csv_docs)}\")"
   ]
  },
  {
   "cell_type": "code",
   "execution_count": 10,
   "id": "a3332731",
   "metadata": {},
   "outputs": [
    {
     "name": "stdout",
     "output_type": "stream",
     "text": [
      "455\n",
      "461\n"
     ]
    }
   ],
   "source": [
    "# Split\n",
    "pdf_splitter = RecursiveCharacterTextSplitter(\n",
    "    chunk_size=500, #길이 500\n",
    "    chunk_overlap=100, #겹치는 내용 100\n",
    "    add_start_index=True #add_start_index=True초기 Document 내에서 각 분할 Document가 시작되는 문자 인덱스가 메타데이터 속성 \"start_index\"로 유지되도록 설정\n",
    ")\n",
    "\n",
    "pdf_splits = pdf_splitter.split_documents(pdf_docs)\n",
    "print(len(pdf_splits))\n",
    "\n",
    "txt_splitter = RecursiveCharacterTextSplitter(\n",
    "    chunk_size=300, \n",
    "    chunk_overlap=50, \n",
    "    add_start_index=True #add_start_index=True초기 Document 내에서 각 분할 Document가 시작되는 문자 인덱스가 메타데이터 속성 \"start_index\"로 유지되도록 설정\n",
    ")\n",
    "\n",
    "txt_splits = txt_splitter.split_documents(txt_docs)\n",
    "print(len(txt_splits))"
   ]
  },
  {
   "cell_type": "code",
   "execution_count": 11,
   "id": "da89c0e0",
   "metadata": {},
   "outputs": [
    {
     "name": "stderr",
     "output_type": "stream",
     "text": [
      "C:\\Users\\hoban\\anaconda3\\lib\\site-packages\\langchain_core\\_api\\deprecation.py:119: LangChainDeprecationWarning: The class `OpenAIEmbeddings` was deprecated in LangChain 0.0.9 and will be removed in 0.3.0. An updated version of the class exists in the langchain-openai package and should be used instead. To use it run `pip install -U langchain-openai` and import as `from langchain_openai import OpenAIEmbeddings`.\n",
      "  warn_deprecated(\n"
     ]
    }
   ],
   "source": [
    "#Store\n",
    "# FAISS 또는 Chroma\n",
    "# FAISS VectorStore를 생성\n",
    "vectorstore1 = FAISS.from_documents(documents=pdf_splits, embedding=OpenAIEmbeddings())\n",
    "vectorstore2 = FAISS.from_documents(documents=txt_splits, embedding=OpenAIEmbeddings())\n",
    "\n",
    "cosmetic_vectorstore = FAISS.from_documents(documents=csv_docs, embedding=OpenAIEmbeddings())\n",
    "vectorstore1.merge_from(vectorstore2) "
   ]
  },
  {
   "cell_type": "code",
   "execution_count": 12,
   "id": "925b56df",
   "metadata": {},
   "outputs": [],
   "source": [
    "# k is the number of chunks to retrieve\n",
    "retriever1 = vectorstore1.as_retriever(k=3)\n",
    "retriever2 = cosmetic_vectorstore.as_retriever(k=50)"
   ]
  },
  {
   "cell_type": "code",
   "execution_count": 13,
   "id": "8328be04",
   "metadata": {},
   "outputs": [],
   "source": [
    "# 선택된 벡터스토어에 따라 검색 수행하는 함수\n",
    "def is_cosmetic_query(user_message):\n",
    "    # 간단한 키워드 기반 분류기 => 머신러닝 모델로 바꿀 수 있음(사용자의 질문이 화장품 추천을 바라는 것인지 아닌지로 레이블링)\n",
    "    cosmetic_keywords = [\"화장품\", \"제품\", \"스킨케어\", \"로션\", \"크림\"]\n",
    "    return any(keyword in user_message for keyword in cosmetic_keywords)\n",
    "                         \n",
    "\n",
    "# 적절한 vectorstore를 선택하는 로직\n",
    "def select_vectorstore(user_message):\n",
    "    if is_cosmetic_query(user_message):\n",
    "        return retriever2\n",
    "    else:\n",
    "        return retriever1"
   ]
  },
  {
   "cell_type": "code",
   "execution_count": 14,
   "id": "88fc2b77",
   "metadata": {},
   "outputs": [],
   "source": [
    "def perform_retrieval(user_message):\n",
    "    selected_vectorstore = select_vectorstore(user_message)\n",
    "    # 질의 변환 및 검색 수행\n",
    "    query_transform_prompt = ChatPromptTemplate.from_messages(\n",
    "        [\n",
    "            MessagesPlaceholder(variable_name=\"messages\"),\n",
    "            (\n",
    "                \"user\",\n",
    "                \"Given the above conversation, generate a search query to look up in order to get information relevant to the conversation. Only respond with the query, nothing else.\",\n",
    "            ),\n",
    "        ]\n",
    "    )\n",
    "\n",
    "    question_answering_prompt = ChatPromptTemplate.from_messages(\n",
    "        [\n",
    "            (\n",
    "                \"system\",\n",
    "                \"Answer the user's question based on the below context:\\n\\n{context}\",\n",
    "            ),\n",
    "            MessagesPlaceholder(variable_name=\"messages\"),\n",
    "        ]\n",
    "    )\n",
    "\n",
    "    query_transforming_retriever_chain = RunnableBranch(\n",
    "        (\n",
    "            lambda x: len(x.get(\"messages\", [])) == 1,\n",
    "            (lambda x: x[\"messages\"][-1].content) | selected_vectorstore,\n",
    "        ),\n",
    "        query_transform_prompt \n",
    "        | llm \n",
    "        | StrOutputParser() \n",
    "        | selected_vectorstore,\n",
    "    ).with_config(run_name=\"chat_retriever_chain\")\n",
    "\n",
    "    document_chain = create_stuff_documents_chain(llm, question_answering_prompt)\n",
    "\n",
    "    conversational_retrieval_chain = RunnablePassthrough.assign(\n",
    "        context=query_transforming_retriever_chain,\n",
    "    ).assign(\n",
    "        answer=document_chain,\n",
    "    )\n",
    "\n",
    "    return conversational_retrieval_chain"
   ]
  },
  {
   "cell_type": "code",
   "execution_count": 15,
   "id": "84d9e497",
   "metadata": {},
   "outputs": [
    {
     "name": "stdout",
     "output_type": "stream",
     "text": [
      "질문할 내용을 입력하세요: -1\n"
     ]
    }
   ],
   "source": [
    "demo_ephemeral_chat_history = ChatMessageHistory()\n",
    "printed_messages = []\n",
    "\n",
    "while True:\n",
    "    user_message = input(\"질문할 내용을 입력하세요: \")\n",
    "    if user_message == \"-1\":\n",
    "        break\n",
    "    demo_ephemeral_chat_history.add_user_message(user_message)\n",
    "    retrieval_chain = perform_retrieval(user_message)\n",
    "    response = retrieval_chain.invoke({\"messages\": demo_ephemeral_chat_history.messages})\n",
    "    \n",
    "    # Add AI response to the chat history\n",
    "    demo_ephemeral_chat_history.add_ai_message(response[\"answer\"])\n",
    "    \n",
    "    # Extract the title from the first document in the context\n",
    "    first_document_title = None\n",
    "    if \"context\" in response and response[\"context\"]:\n",
    "        first_document = response[\"context\"][0]\n",
    "        first_document_title = first_document.page_content.split('\\n')[0].strip()\n",
    "    print()\n",
    "    # Filter and print only new AI messages\n",
    "    ai_messages = [msg.content for msg in demo_ephemeral_chat_history.messages if isinstance(msg, AIMessage)]\n",
    "    for msg in ai_messages:\n",
    "        if msg not in printed_messages:\n",
    "            print(msg)\n",
    "            printed_messages.append(msg)\n",
    "    \n",
    "    # Print the title of the first document, if available, and if the query is not about cosmetics\n",
    "    if first_document_title and not is_cosmetic_query(user_message):\n",
    "        print(f\"\\n답변에 활용한 데이터: {first_document_title}\\n\")\n",
    "    print(\"==========================================================\")"
   ]
  },
  {
   "cell_type": "code",
   "execution_count": 16,
   "id": "bf3dba56",
   "metadata": {},
   "outputs": [
    {
     "name": "stdout",
     "output_type": "stream",
     "text": [
      "건성 피부 질문에 '예' 또는 '아니오'로 답해주세요.\n",
      "세안 후 피부가 땅기거나 건조함을 느끼나요? (예/아니오): 아니오\n",
      "피부에 각질이 잘 생기나요? (예/아니오): 아니오\n",
      "세안 후 보습제를 바로 발라야 편안함을 느끼나요? (예/아니오): 아니오\n",
      "피부가 거칠거나 푸석푸석한 느낌이 드나요? (예/아니오): 아니오\n",
      "추운 날씨나 건조한 환경에서 피부가 더 건조해지나요? (예/아니오): 아니오\n",
      "피부에 피지나 유분이 거의 느껴지지 않나요? (예/아니오): 아니오\n",
      "화장이 쉽게 들뜨고 갈라지는 편인가요? (예/아니오): 아니오\n",
      "가렵거나 자극을 잘 받는 피부 상태인가요? (예/아니오): 아니오\n",
      "\n",
      "지성 피부 질문에 '예' 또는 '아니오'로 답해주세요.\n",
      "세안 후에도 피부에 기름기가 남아있나요? (예/아니오): 아니오\n",
      "하루 동안 피부가 번들거리는 느낌이 드나요? (예/아니오): 아니오\n",
      "모공이 크고 눈에 잘 띄나요? (예/아니오): 아니오\n",
      "블랙헤드나 화이트헤드가 자주 생기나요? (예/아니오): 아니오\n",
      "여드름이 자주 발생하나요? (예/아니오): 아니오\n",
      "세안 후에도 금방 기름이 올라오는 편인가요? (예/아니오): 아니오\n",
      "더운 날씨나 습한 환경에서 피부가 더 번들거리나요? (예/아니오): 아니오\n",
      "화장이 쉽게 지워지고 번들거리는 편인가요? (예/아니오): 아니오\n",
      "\n",
      "피부 타입을 정확히 판단할 수 없습니다. 추가적인 검사가 필요할 수 있습니다.\n"
     ]
    }
   ],
   "source": [
    "def skin_type_test():\n",
    "    # 건성 피부 질문\n",
    "    dry_questions = [\n",
    "        \"세안 후 피부가 땅기거나 건조함을 느끼나요?\",\n",
    "        \"피부에 각질이 잘 생기나요?\",\n",
    "        \"세안 후 보습제를 바로 발라야 편안함을 느끼나요?\",\n",
    "        \"피부가 거칠거나 푸석푸석한 느낌이 드나요?\",\n",
    "        \"추운 날씨나 건조한 환경에서 피부가 더 건조해지나요?\",\n",
    "        \"피부에 피지나 유분이 거의 느껴지지 않나요?\",\n",
    "        \"화장이 쉽게 들뜨고 갈라지는 편인가요?\",\n",
    "        \"가렵거나 자극을 잘 받는 피부 상태인가요?\"\n",
    "    ]\n",
    "\n",
    "    # 지성 피부 질문\n",
    "    oily_questions = [\n",
    "        \"세안 후에도 피부에 기름기가 남아있나요?\",\n",
    "        \"하루 동안 피부가 번들거리는 느낌이 드나요?\",\n",
    "        \"모공이 크고 눈에 잘 띄나요?\",\n",
    "        \"블랙헤드나 화이트헤드가 자주 생기나요?\",\n",
    "        \"여드름이 자주 발생하나요?\",\n",
    "        \"세안 후에도 금방 기름이 올라오는 편인가요?\",\n",
    "        \"더운 날씨나 습한 환경에서 피부가 더 번들거리나요?\",\n",
    "        \"화장이 쉽게 지워지고 번들거리는 편인가요?\"\n",
    "    ]\n",
    "\n",
    "    dry_count = 0\n",
    "    oily_count = 0\n",
    "\n",
    "    print(\"건성 피부 질문에 '예' 또는 '아니오'로 답해주세요.\")\n",
    "    for question in dry_questions:\n",
    "        answer = input(question + \" (예/아니오): \").lower()\n",
    "        if answer == \"예\":\n",
    "            dry_count += 1\n",
    "\n",
    "    print(\"\\n지성 피부 질문에 '예' 또는 '아니오'로 답해주세요.\")\n",
    "    for question in oily_questions:\n",
    "        answer = input(question + \" (예/아니오): \").lower()\n",
    "        if answer == \"예\":\n",
    "            oily_count += 1\n",
    "\n",
    "    if dry_count >= 5 and oily_count >= 5:\n",
    "        print(\"\\n복합성 피부입니다.\")\n",
    "    elif oily_count >= 5:\n",
    "        print(\"\\n지성 피부입니다.\")\n",
    "    elif dry_count >= 5:\n",
    "        print(\"\\n건성 피부입니다.\")\n",
    "    else:\n",
    "        print(\"\\n피부 타입을 정확히 판단할 수 없습니다. 추가적인 검사가 필요할 수 있습니다.\")\n",
    "\n",
    "# 피부 타입 검사 시작\n",
    "skin_type_test()"
   ]
  },
  {
   "cell_type": "code",
   "execution_count": 22,
   "id": "c8cb2af9",
   "metadata": {},
   "outputs": [
    {
     "ename": "NameError",
     "evalue": "name 'requests' is not defined",
     "output_type": "error",
     "traceback": [
      "\u001b[1;31m---------------------------------------------------------------------------\u001b[0m",
      "\u001b[1;31mNameError\u001b[0m                                 Traceback (most recent call last)",
      "\u001b[1;32m~\\AppData\\Local\\Temp\\ipykernel_30220\\2995805849.py\u001b[0m in \u001b[0;36m<module>\u001b[1;34m\u001b[0m\n\u001b[1;32m----> 1\u001b[1;33m \u001b[0mprint\u001b[0m\u001b[1;33m(\u001b[0m\u001b[0mrequests\u001b[0m\u001b[1;33m.\u001b[0m\u001b[0m__version__\u001b[0m\u001b[1;33m)\u001b[0m\u001b[1;33m\u001b[0m\u001b[1;33m\u001b[0m\u001b[0m\n\u001b[0m",
      "\u001b[1;31mNameError\u001b[0m: name 'requests' is not defined"
     ]
    }
   ],
   "source": [
    "print(requests.__version__)"
   ]
  },
  {
   "cell_type": "code",
   "execution_count": null,
   "id": "7be7ec30",
   "metadata": {},
   "outputs": [],
   "source": []
  }
 ],
 "metadata": {
  "kernelspec": {
   "display_name": "Python 3 (ipykernel)",
   "language": "python",
   "name": "python3"
  },
  "language_info": {
   "codemirror_mode": {
    "name": "ipython",
    "version": 3
   },
   "file_extension": ".py",
   "mimetype": "text/x-python",
   "name": "python",
   "nbconvert_exporter": "python",
   "pygments_lexer": "ipython3",
   "version": "3.9.13"
  },
  "toc": {
   "base_numbering": 1,
   "nav_menu": {},
   "number_sections": true,
   "sideBar": true,
   "skip_h1_title": false,
   "title_cell": "Table of Contents",
   "title_sidebar": "Contents",
   "toc_cell": false,
   "toc_position": {},
   "toc_section_display": true,
   "toc_window_display": false
  }
 },
 "nbformat": 4,
 "nbformat_minor": 5
}
